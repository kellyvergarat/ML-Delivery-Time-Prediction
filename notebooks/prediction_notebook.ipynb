{
 "cells": [
  {
   "cell_type": "markdown",
   "metadata": {},
   "source": [
    "### Machine learning linear regression : Food Delivery Time Prediction"
   ]
  },
  {
   "cell_type": "code",
   "execution_count": 11,
   "metadata": {
    "vscode": {
     "languageId": "markdown"
    }
   },
   "outputs": [
    {
     "name": "stdout",
     "output_type": "stream",
     "text": [
      "Requirement already satisfied: kaggle in /home/codespace/.python/current/lib/python3.12/site-packages (from -r requirements.txt (line 1)) (1.6.17)\n",
      "Collecting xgboost (from -r requirements.txt (line 2))\n",
      "  Downloading xgboost-2.1.3-py3-none-manylinux_2_28_x86_64.whl.metadata (2.1 kB)\n",
      "Requirement already satisfied: six>=1.10 in /home/codespace/.local/lib/python3.12/site-packages (from kaggle->-r requirements.txt (line 1)) (1.17.0)\n",
      "Requirement already satisfied: certifi>=2023.7.22 in /home/codespace/.local/lib/python3.12/site-packages (from kaggle->-r requirements.txt (line 1)) (2024.8.30)\n",
      "Requirement already satisfied: python-dateutil in /home/codespace/.local/lib/python3.12/site-packages (from kaggle->-r requirements.txt (line 1)) (2.9.0.post0)\n",
      "Requirement already satisfied: requests in /home/codespace/.local/lib/python3.12/site-packages (from kaggle->-r requirements.txt (line 1)) (2.32.3)\n",
      "Requirement already satisfied: tqdm in /home/codespace/.python/current/lib/python3.12/site-packages (from kaggle->-r requirements.txt (line 1)) (4.67.1)\n",
      "Requirement already satisfied: python-slugify in /home/codespace/.python/current/lib/python3.12/site-packages (from kaggle->-r requirements.txt (line 1)) (8.0.4)\n",
      "Requirement already satisfied: urllib3 in /home/codespace/.local/lib/python3.12/site-packages (from kaggle->-r requirements.txt (line 1)) (2.2.3)\n",
      "Requirement already satisfied: bleach in /home/codespace/.local/lib/python3.12/site-packages (from kaggle->-r requirements.txt (line 1)) (6.2.0)\n",
      "Requirement already satisfied: numpy in /home/codespace/.local/lib/python3.12/site-packages (from xgboost->-r requirements.txt (line 2)) (2.2.0)\n",
      "Collecting nvidia-nccl-cu12 (from xgboost->-r requirements.txt (line 2))\n",
      "  Downloading nvidia_nccl_cu12-2.25.1-py3-none-manylinux2014_x86_64.manylinux_2_17_x86_64.whl.metadata (1.8 kB)\n",
      "Requirement already satisfied: scipy in /home/codespace/.local/lib/python3.12/site-packages (from xgboost->-r requirements.txt (line 2)) (1.14.1)\n",
      "Requirement already satisfied: webencodings in /home/codespace/.local/lib/python3.12/site-packages (from bleach->kaggle->-r requirements.txt (line 1)) (0.5.1)\n",
      "Requirement already satisfied: text-unidecode>=1.3 in /home/codespace/.python/current/lib/python3.12/site-packages (from python-slugify->kaggle->-r requirements.txt (line 1)) (1.3)\n",
      "Requirement already satisfied: charset-normalizer<4,>=2 in /home/codespace/.local/lib/python3.12/site-packages (from requests->kaggle->-r requirements.txt (line 1)) (3.4.0)\n",
      "Requirement already satisfied: idna<4,>=2.5 in /home/codespace/.local/lib/python3.12/site-packages (from requests->kaggle->-r requirements.txt (line 1)) (3.10)\n",
      "Downloading xgboost-2.1.3-py3-none-manylinux_2_28_x86_64.whl (153.9 MB)\n",
      "\u001b[2K   \u001b[90m━━━━━━━━━━━━━━━━━━━━━━━━━━━━━━━━━━━━━━━━\u001b[0m \u001b[32m153.9/153.9 MB\u001b[0m \u001b[31m57.8 MB/s\u001b[0m eta \u001b[36m0:00:00\u001b[0m00:01\u001b[0m00:01\u001b[0m\n",
      "\u001b[?25hDownloading nvidia_nccl_cu12-2.25.1-py3-none-manylinux2014_x86_64.manylinux_2_17_x86_64.whl (201.4 MB)\n",
      "\u001b[2K   \u001b[90m━━━━━━━━━━━━━━━━━━━━━━━━━━━━━━━━━━━━━━━━\u001b[0m \u001b[32m201.4/201.4 MB\u001b[0m \u001b[31m48.2 MB/s\u001b[0m eta \u001b[36m0:00:00\u001b[0m00:01\u001b[0m00:01\u001b[0m\n",
      "\u001b[?25hInstalling collected packages: nvidia-nccl-cu12, xgboost\n",
      "Successfully installed nvidia-nccl-cu12-2.25.1 xgboost-2.1.3\n"
     ]
    }
   ],
   "source": [
    "!pip install -r requirements.txt"
   ]
  },
  {
   "cell_type": "code",
   "execution_count": 2,
   "metadata": {
    "vscode": {
     "languageId": "markdown"
    }
   },
   "outputs": [],
   "source": [
    "#import required libraries\n",
    "import re\n",
    "import pandas as pd\n",
    "import numpy as np\n",
    "import seaborn as sns\n",
    "import matplotlib.pyplot as plt\n",
    "\n",
    "from sklearn.model_selection import train_test_split\n",
    "from sklearn.linear_model import LinearRegression\n",
    "from sklearn.ensemble import RandomForestRegressor\n",
    "from sklearn.preprocessing import StandardScaler\n",
    "from sklearn.metrics import mean_squared_error, r2_score\n",
    "\n",
    "from xgboost import XGBRegressor\n"
   ]
  },
  {
   "cell_type": "code",
   "execution_count": 3,
   "metadata": {
    "vscode": {
     "languageId": "markdown"
    }
   },
   "outputs": [
    {
     "name": "stdout",
     "output_type": "stream",
     "text": [
      "Dataset URL: https://www.kaggle.com/datasets/denkuznetz/food-delivery-time-prediction\n",
      "License(s): apache-2.0\n",
      "Downloading food-delivery-time-prediction.zip to ../data\n",
      "  0%|                                               | 0.00/11.6k [00:00<?, ?B/s]\n",
      "100%|██████████████████████████████████████| 11.6k/11.6k [00:00<00:00, 19.8MB/s]\n",
      "Archive:  ../data/food-delivery-time-prediction.zip\n",
      "  inflating: ../data/Food_Delivery_Times.csv  \n"
     ]
    }
   ],
   "source": [
    "# Download the dataset\n",
    "!kaggle datasets download -d denkuznetz/food-delivery-time-prediction -p ../data\n",
    "!unzip ../data/food-delivery-time-prediction.zip -d ../data"
   ]
  },
  {
   "cell_type": "markdown",
   "metadata": {},
   "source": [
    "### Data Preparation"
   ]
  },
  {
   "cell_type": "code",
   "execution_count": 3,
   "metadata": {
    "vscode": {
     "languageId": "markdown"
    }
   },
   "outputs": [],
   "source": [
    "#load the dataset\n",
    "df = pd.read_csv(\"../data/Food_Delivery_Times.csv\")"
   ]
  },
  {
   "cell_type": "code",
   "execution_count": 4,
   "metadata": {
    "vscode": {
     "languageId": "markdown"
    }
   },
   "outputs": [
    {
     "data": {
      "text/plain": [
       "1000"
      ]
     },
     "execution_count": 4,
     "metadata": {},
     "output_type": "execute_result"
    }
   ],
   "source": [
    "len(df)"
   ]
  },
  {
   "cell_type": "markdown",
   "metadata": {},
   "source": [
    "The dataset contains 1000 rows and 9 columns. Let's take a look at the first few rows of the dataset."
   ]
  },
  {
   "cell_type": "code",
   "execution_count": 5,
   "metadata": {
    "vscode": {
     "languageId": "markdown"
    }
   },
   "outputs": [
    {
     "data": {
      "text/html": [
       "<div>\n",
       "<style scoped>\n",
       "    .dataframe tbody tr th:only-of-type {\n",
       "        vertical-align: middle;\n",
       "    }\n",
       "\n",
       "    .dataframe tbody tr th {\n",
       "        vertical-align: top;\n",
       "    }\n",
       "\n",
       "    .dataframe thead th {\n",
       "        text-align: right;\n",
       "    }\n",
       "</style>\n",
       "<table border=\"1\" class=\"dataframe\">\n",
       "  <thead>\n",
       "    <tr style=\"text-align: right;\">\n",
       "      <th></th>\n",
       "      <th>Order_ID</th>\n",
       "      <th>Distance_km</th>\n",
       "      <th>Weather</th>\n",
       "      <th>Traffic_Level</th>\n",
       "      <th>Time_of_Day</th>\n",
       "      <th>Vehicle_Type</th>\n",
       "      <th>Preparation_Time_min</th>\n",
       "      <th>Courier_Experience_yrs</th>\n",
       "      <th>Delivery_Time_min</th>\n",
       "    </tr>\n",
       "  </thead>\n",
       "  <tbody>\n",
       "    <tr>\n",
       "      <th>0</th>\n",
       "      <td>522</td>\n",
       "      <td>7.93</td>\n",
       "      <td>Windy</td>\n",
       "      <td>Low</td>\n",
       "      <td>Afternoon</td>\n",
       "      <td>Scooter</td>\n",
       "      <td>12</td>\n",
       "      <td>1.0</td>\n",
       "      <td>43</td>\n",
       "    </tr>\n",
       "  </tbody>\n",
       "</table>\n",
       "</div>"
      ],
      "text/plain": [
       "   Order_ID  Distance_km Weather Traffic_Level Time_of_Day Vehicle_Type  \\\n",
       "0       522         7.93   Windy           Low   Afternoon      Scooter   \n",
       "\n",
       "   Preparation_Time_min  Courier_Experience_yrs  Delivery_Time_min  \n",
       "0                    12                     1.0                 43  "
      ]
     },
     "execution_count": 5,
     "metadata": {},
     "output_type": "execute_result"
    }
   ],
   "source": [
    "df.head(1)"
   ]
  },
  {
   "cell_type": "markdown",
   "metadata": {},
   "source": [
    "Convert column names to lowercase and remove spaces"
   ]
  },
  {
   "cell_type": "code",
   "execution_count": 6,
   "metadata": {
    "vscode": {
     "languageId": "markdown"
    }
   },
   "outputs": [
    {
     "data": {
      "text/html": [
       "<div>\n",
       "<style scoped>\n",
       "    .dataframe tbody tr th:only-of-type {\n",
       "        vertical-align: middle;\n",
       "    }\n",
       "\n",
       "    .dataframe tbody tr th {\n",
       "        vertical-align: top;\n",
       "    }\n",
       "\n",
       "    .dataframe thead th {\n",
       "        text-align: right;\n",
       "    }\n",
       "</style>\n",
       "<table border=\"1\" class=\"dataframe\">\n",
       "  <thead>\n",
       "    <tr style=\"text-align: right;\">\n",
       "      <th></th>\n",
       "      <th>order_id</th>\n",
       "      <th>distance_km</th>\n",
       "      <th>weather</th>\n",
       "      <th>traffic_level</th>\n",
       "      <th>time_of_day</th>\n",
       "      <th>vehicle_type</th>\n",
       "      <th>preparation_time_min</th>\n",
       "      <th>courier_experience_yrs</th>\n",
       "      <th>delivery_time_min</th>\n",
       "    </tr>\n",
       "  </thead>\n",
       "  <tbody>\n",
       "    <tr>\n",
       "      <th>0</th>\n",
       "      <td>522</td>\n",
       "      <td>7.93</td>\n",
       "      <td>Windy</td>\n",
       "      <td>Low</td>\n",
       "      <td>Afternoon</td>\n",
       "      <td>Scooter</td>\n",
       "      <td>12</td>\n",
       "      <td>1.0</td>\n",
       "      <td>43</td>\n",
       "    </tr>\n",
       "  </tbody>\n",
       "</table>\n",
       "</div>"
      ],
      "text/plain": [
       "   order_id  distance_km weather traffic_level time_of_day vehicle_type  \\\n",
       "0       522         7.93   Windy           Low   Afternoon      Scooter   \n",
       "\n",
       "   preparation_time_min  courier_experience_yrs  delivery_time_min  \n",
       "0                    12                     1.0                 43  "
      ]
     },
     "execution_count": 6,
     "metadata": {},
     "output_type": "execute_result"
    }
   ],
   "source": [
    "# Convert column names to lowercase\n",
    "df.columns = [col.lower() for col in df.columns]\n",
    "df.head(1)"
   ]
  },
  {
   "cell_type": "code",
   "execution_count": 7,
   "metadata": {
    "vscode": {
     "languageId": "markdown"
    }
   },
   "outputs": [
    {
     "data": {
      "text/plain": [
       "order_id                    int64\n",
       "distance_km               float64\n",
       "weather                    object\n",
       "traffic_level              object\n",
       "time_of_day                object\n",
       "vehicle_type               object\n",
       "preparation_time_min        int64\n",
       "courier_experience_yrs    float64\n",
       "delivery_time_min           int64\n",
       "dtype: object"
      ]
     },
     "execution_count": 7,
     "metadata": {},
     "output_type": "execute_result"
    }
   ],
   "source": [
    "df.dtypes"
   ]
  },
  {
   "cell_type": "code",
   "execution_count": 8,
   "metadata": {
    "vscode": {
     "languageId": "markdown"
    }
   },
   "outputs": [],
   "source": [
    "# Remove order_id as it's not relevant for analysis\n",
    "df = df.drop('order_id', axis=1)\n"
   ]
  },
  {
   "cell_type": "code",
   "execution_count": 9,
   "metadata": {
    "vscode": {
     "languageId": "markdown"
    }
   },
   "outputs": [],
   "source": [
    "categorical_features = ['weather','traffic_level','time_of_day','vehicle_type']\n",
    "numerical_features = ['distance_km','preparation_time_min','courier_experience_yrs','delivery_time_min']"
   ]
  },
  {
   "cell_type": "code",
   "execution_count": 10,
   "metadata": {
    "vscode": {
     "languageId": "markdown"
    }
   },
   "outputs": [
    {
     "name": "stdout",
     "output_type": "stream",
     "text": [
      "       distance_km  preparation_time_min  courier_experience_yrs  \\\n",
      "count      1000.00               1000.00                  970.00   \n",
      "mean         10.06                 16.98                    4.58   \n",
      "std           5.70                  7.20                    2.91   \n",
      "min           0.59                  5.00                    0.00   \n",
      "25%           5.11                 11.00                    2.00   \n",
      "50%          10.19                 17.00                    5.00   \n",
      "75%          15.02                 23.00                    7.00   \n",
      "max          19.99                 29.00                    9.00   \n",
      "\n",
      "       delivery_time_min  \n",
      "count            1000.00  \n",
      "mean               56.73  \n",
      "std                22.07  \n",
      "min                 8.00  \n",
      "25%                41.00  \n",
      "50%                55.50  \n",
      "75%                71.00  \n",
      "max               153.00  \n"
     ]
    }
   ],
   "source": [
    "print(df.describe().round(2))   "
   ]
  },
  {
   "cell_type": "markdown",
   "metadata": {
    "vscode": {
     "languageId": "markdown"
    }
   },
   "source": [
    "### EDA - Exploratory Data Analysis\n",
    "\n",
    "Let's examine the unique values in each categorical feature to better understand our dataset. This will help us identify potential data quality issues and understand the distribution of categories."
   ]
  },
  {
   "cell_type": "code",
   "execution_count": 11,
   "metadata": {},
   "outputs": [
    {
     "name": "stdout",
     "output_type": "stream",
     "text": [
      "Unique values in each categorical feature:\n",
      "weather: ['Windy' 'Clear' 'Foggy' 'Rainy' 'Snowy' nan]\n",
      "traffic_level: ['Low' 'Medium' 'High' nan]\n",
      "time_of_day: ['Afternoon' 'Evening' 'Night' 'Morning' nan]\n",
      "vehicle_type: ['Scooter' 'Bike' 'Car']\n"
     ]
    }
   ],
   "source": [
    "print(\"Unique values in each categorical feature:\")\n",
    "for col in categorical_features:\n",
    "    print(f\"{col}: {df[col].unique()}\")"
   ]
  },
  {
   "cell_type": "markdown",
   "metadata": {
    "vscode": {
     "languageId": "markdown"
    }
   },
   "source": [
    "Now, lets check for missing values in the dataset and address them."
   ]
  },
  {
   "cell_type": "code",
   "execution_count": 12,
   "metadata": {
    "vscode": {
     "languageId": "markdown"
    }
   },
   "outputs": [
    {
     "data": {
      "text/plain": [
       "distance_km                0\n",
       "weather                   30\n",
       "traffic_level             30\n",
       "time_of_day               30\n",
       "vehicle_type               0\n",
       "preparation_time_min       0\n",
       "courier_experience_yrs    30\n",
       "delivery_time_min          0\n",
       "dtype: int64"
      ]
     },
     "execution_count": 12,
     "metadata": {},
     "output_type": "execute_result"
    }
   ],
   "source": [
    "df.isnull().sum()"
   ]
  },
  {
   "cell_type": "markdown",
   "metadata": {},
   "source": [
    "Handling Missing Values\n",
    "For this dataset:\n",
    "- Weather conditions, traffic level, and time of day are likely random missing values\n",
    "- Courier experience could indicate new hires when missing\n",
    "\n",
    "Recommended approach:\n",
    "- Use mode imputation for categorical variables as they represent common conditions\n",
    "- Use median for courier_experience_yrs as it's less sensitive to outliers than mean"
   ]
  },
  {
   "cell_type": "code",
   "execution_count": 13,
   "metadata": {},
   "outputs": [],
   "source": [
    "# Fill missing missing values values with mode (most frequent value)\n",
    "df['weather'] = df['weather'].fillna(df['weather'].mode()[0])\n",
    "df['traffic_level'] = df['traffic_level'].fillna(df['traffic_level'].mode()[0])\n",
    "df['time_of_day'] = df['time_of_day'].fillna(df['time_of_day'].mode()[0])\n",
    "\n",
    "# Fill missing missing values values with median (middle value)\n",
    "df['courier_experience_yrs'] = df['courier_experience_yrs'].fillna(df['courier_experience_yrs'].median())"
   ]
  },
  {
   "cell_type": "code",
   "execution_count": 14,
   "metadata": {},
   "outputs": [
    {
     "data": {
      "text/plain": [
       "distance_km               0\n",
       "weather                   0\n",
       "traffic_level             0\n",
       "time_of_day               0\n",
       "vehicle_type              0\n",
       "preparation_time_min      0\n",
       "courier_experience_yrs    0\n",
       "delivery_time_min         0\n",
       "dtype: int64"
      ]
     },
     "execution_count": 14,
     "metadata": {},
     "output_type": "execute_result"
    }
   ],
   "source": [
    "df.isnull().sum()"
   ]
  },
  {
   "cell_type": "code",
   "execution_count": 15,
   "metadata": {},
   "outputs": [
    {
     "data": {
      "text/plain": [
       "delivery_time_min\n",
       "71     23\n",
       "44     22\n",
       "48     22\n",
       "43     21\n",
       "51     21\n",
       "       ..\n",
       "103     1\n",
       "99      1\n",
       "126     1\n",
       "122     1\n",
       "114     1\n",
       "Name: count, Length: 108, dtype: int64"
      ]
     },
     "execution_count": 15,
     "metadata": {},
     "output_type": "execute_result"
    }
   ],
   "source": [
    "df['delivery_time_min'].value_counts()"
   ]
  },
  {
   "cell_type": "markdown",
   "metadata": {},
   "source": [
    "There is 108 different delivery times in the dataset. The most frequent is 71 minutes for a delivery. Let's check the distribution of delivery times."
   ]
  },
  {
   "cell_type": "code",
   "execution_count": 16,
   "metadata": {},
   "outputs": [
    {
     "data": {
      "text/plain": [
       "<seaborn.axisgrid.FacetGrid at 0x77ba3d3ef7a0>"
      ]
     },
     "execution_count": 16,
     "metadata": {},
     "output_type": "execute_result"
    },
    {
     "data": {
      "image/png": "[encoded data removed]",
      "text/plain": [
       "<Figure size 714.286x500 with 1 Axes>"
      ]
     },
     "metadata": {},
     "output_type": "display_data"
    }
   ],
   "source": [
    "sns.displot(x='delivery_time_min',data=df,aspect=10/7,kde=True)"
   ]
  },
  {
   "cell_type": "markdown",
   "metadata": {},
   "source": [
    "**Distribution Shape**\n",
    "\n",
    "The histogram appears to be unimodal (single peak) and positively skewed (tail extending to the right). This indicates that most delivery times fall within a certain range, but there are less frequent instances of much longer delivery times pulling the distribution's tail to the right.\n",
    "\n",
    "**Central Tendency**\n",
    "\n",
    "**Mode:** The modal class (most frequent bin) seems to be in the 60-70 minute range. This suggests the most common delivery times fall within this interval.\n",
    "\n",
    "**Median:** Since the distribution is skewed, the median (middle value) is likely to be slightly higher than the mode. It probably lies somewhere in the 70-80 minute range because the tail is pulling the mean and median towards the higher values.\n",
    "\n",
    "**Mean:** The mean (average) will be the most affected by the long tail and is expected to be greater than the median and mode. It's likely located somewhere above 80 minutes.\n",
    "\n",
    "\n",
    "**Spread/Variability**\n",
    "\n",
    "**Range:** The data spans from around 20 minutes to a little over 160 minutes, giving a wide range. \n",
    "\n",
    "**Interquartile Range (IQR):** Due to the skewness, IQR would be a more appropriate measure of spread than the standard deviation. It's difficult to estimate visually but would likely capture the spread of the central 50% of the data, offering a better representation of the variability of typical delivery times.\n",
    "\n",
    "**Outliers:** The data points in the far right tail (beyond 120 minutes, for example) could be considered potential outliers. These warrant further investigation to understand if they represent genuine extreme delivery times or if they are due to errors in data collection or specific circumstances (e.g., traffic, weather)."
   ]
  },
  {
   "cell_type": "code",
   "execution_count": 29,
   "metadata": {},
   "outputs": [
    {
     "data": {
      "image/png": "[encoded data removed]",
      "text/plain": [
       "<Figure size 1000x400 with 4 Axes>"
      ]
     },
     "metadata": {},
     "output_type": "display_data"
    }
   ],
   "source": [
    "plt.figure(figsize=(10, 4))\n",
    "\n",
    "for i, col in enumerate(numerical_features):\n",
    "    plt.subplot(1, len(numerical_features), i + 1)\n",
    "    sns.boxplot(y=df[col])\n",
    "    plt.title(col)\n",
    "\n",
    "plt.tight_layout()\n",
    "plt.show()"
   ]
  },
  {
   "cell_type": "markdown",
   "metadata": {},
   "source": [
    "1. distance_km (Distance in Kilometers):\n",
    "* Median: The median distance appears to be around 12-13 km. This represents the typical distance for the deliveries in the dataset.\n",
    "* Interquartile Range (IQR): The IQR (the box's height) spans roughly from 7 km to 17 km. This indicates that the middle 50% of deliveries fall within this distance range. This is a substantial spread, suggesting considerable variability in delivery distances.\n",
    "* Range: The full range of distances extends from nearly 0 km to about 20 km.\n",
    "* Potential Outliers: There are no apparent outliers on the lower end. However, the maximum distance of 20 km could be considered a potential outlier, depending on the context. It's significantly higher than the rest of the data.\n",
    "2. preparation_time_min (Preparation Time in Minutes):\n",
    "* Median: The median preparation time is approximately 15 minutes.\n",
    "* IQR: The IQR ranges from about 10 minutes to 20 minutes. This indicates a moderate amount of variability in preparation times.\n",
    "* Range: The data spans from roughly 5 minutes to 30 minutes.\n",
    "* Potential Outliers: The maximum value of 30 minutes could be considered a potential outlier. It's notably higher than the rest of the distribution.\n",
    "3. courier_experience_yrs (Courier Experience in Years):\n",
    "* Median: The median courier experience is around 5 years.\n",
    "* IQR: The IQR extends from approximately 2 to 8 years. This shows a reasonable range of experience levels among the couriers.\n",
    "* Range: The experience ranges from 0 years (presumably new couriers) to about 8 years.\n",
    "* Potential Outliers: There are no clear outliers in this variable.\n",
    "4. delivery_time_min (Delivery Time in Minutes):\n",
    "* Median: The median delivery time is roughly 60 minutes.\n",
    "* IQR: The IQR ranges from about 40 minutes to 80 minutes. This demonstrates significant variability in delivery times.\n",
    "* Range: The data spans from approximately 20 minutes to 160 minutes.\n",
    "* Potential Outliers: There are several potential outliers on the higher end, above 100 minutes. These extreme values suggest that some deliveries experienced substantial delays."
   ]
  },
  {
   "cell_type": "code",
   "execution_count": 20,
   "metadata": {},
   "outputs": [
    {
     "name": "stderr",
     "output_type": "stream",
     "text": [
      "/tmp/ipykernel_1868/4042389426.py:2: FutureWarning: \n",
      "\n",
      "Passing `palette` without assigning `hue` is deprecated and will be removed in v0.14.0. Assign the `x` variable to `hue` and set `legend=False` for the same effect.\n",
      "\n",
      "  sns.boxplot(data=df,x='courier_experience_yrs',y='delivery_time_min',palette='plasma')\n"
     ]
    },
    {
     "data": {
      "image/png": "[encoded data removed]",
      "text/plain": [
       "<Figure size 1000x800 with 1 Axes>"
      ]
     },
     "metadata": {},
     "output_type": "display_data"
    }
   ],
   "source": [
    "plt.figure(figsize=(10,8))\n",
    "sns.boxplot(data=df,x='courier_experience_yrs',y='delivery_time_min',palette='plasma')\n",
    "plt.title(\"Delivery Time by Courier Experience\")\n",
    "plt.xlabel(\"Courier Experience (years)\")\n",
    "plt.ylabel(\"Delivery Time (min)\")\n",
    "plt.show()"
   ]
  }
 ],
 "metadata": {
  "kernelspec": {
   "display_name": "Python 3 (ipykernel)",
   "language": "python",
   "name": "python3"
  },
  "language_info": {
   "codemirror_mode": {
    "name": "ipython",
    "version": 3
   },
   "file_extension": ".py",
   "mimetype": "text/x-python",
   "name": "python",
   "nbconvert_exporter": "python",
   "pygments_lexer": "ipython3",
   "version": "3.12.1"
  }
 },
 "nbformat": 4,
 "nbformat_minor": 2
}
